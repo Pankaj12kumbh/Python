{
 "cells": [
  {
   "cell_type": "code",
   "execution_count": 1,
   "id": "cf9f94bc-3d3d-4ab4-a5d9-1d10491b9649",
   "metadata": {},
   "outputs": [],
   "source": [
    "#Arithmetic Operator"
   ]
  },
  {
   "cell_type": "code",
   "execution_count": 2,
   "id": "d510ba82-b441-4170-8e75-dc8fc9066be8",
   "metadata": {},
   "outputs": [
    {
     "name": "stdout",
     "output_type": "stream",
     "text": [
      "x+y= 20\n",
      "x-y= 10\n",
      "x*y= 75\n",
      "x/y= 3.0\n",
      "x**y= 759375\n"
     ]
    }
   ],
   "source": [
    "x=15\n",
    "y=5\n",
    "print('x+y=',x+y)\n",
    "print('x-y=',x-y)\n",
    "print('x*y=',x*y)\n",
    "print('x/y=',x/y)\n",
    "print('x**y=',x**y)"
   ]
  },
  {
   "cell_type": "code",
   "execution_count": 3,
   "id": "5bbf2adf-eeb9-4e7f-b7b1-aca6eb329b9f",
   "metadata": {},
   "outputs": [
    {
     "name": "stdin",
     "output_type": "stream",
     "text": [
      "Enter value for A : 15\n",
      "Enter value for B : 5\n"
     ]
    },
    {
     "name": "stdout",
     "output_type": "stream",
     "text": [
      "Adddition is = 20\n",
      "Substraction is = 10\n",
      "Multiplication is = 75\n",
      "Division is = 3.0\n",
      "Exponent is = 759375\n"
     ]
    }
   ],
   "source": [
    "a=int(input('Enter value for A :'))\n",
    "b=int(input('Enter value for B :'))\n",
    "c=a+b\n",
    "d=a-b\n",
    "e=a*b\n",
    "f=a/b\n",
    "g=a**b\n",
    "print('Adddition is =',c)\n",
    "print('Substraction is =',d)\n",
    "print('Multiplication is =',e)\n",
    "print('Division is =',f)\n",
    "print('Exponent is =',g)"
   ]
  },
  {
   "cell_type": "code",
   "execution_count": 4,
   "id": "1d22ada0-cf05-4762-b1df-703653218562",
   "metadata": {},
   "outputs": [],
   "source": [
    "#comparison Operator"
   ]
  },
  {
   "cell_type": "code",
   "execution_count": 5,
   "id": "b39c9d44-1dff-4d88-b8f1-3a1aceb02f10",
   "metadata": {},
   "outputs": [
    {
     "name": "stdout",
     "output_type": "stream",
     "text": [
      "x > y is  False\n",
      "x < y is  True\n",
      "x == y is  False\n",
      "x != y is  True\n",
      "x >= y is  False\n",
      "x <= y is  True\n"
     ]
    }
   ],
   "source": [
    "x=10\n",
    "y=12\n",
    "print('x > y is ',x>y)\n",
    "print('x < y is ',x<y)\n",
    "print('x == y is ',x==y)\n",
    "print('x != y is ',x!=y)\n",
    "print('x >= y is ',x>=y)\n",
    "print('x <= y is ',x<=y)\n"
   ]
  },
  {
   "cell_type": "code",
   "execution_count": 6,
   "id": "f81a5ca9-ebe8-4f3b-8c88-99a531338705",
   "metadata": {},
   "outputs": [],
   "source": [
    "#Logical Operator"
   ]
  },
  {
   "cell_type": "code",
   "execution_count": 8,
   "id": "d041320e-c951-4717-b16c-9cbea9a498f5",
   "metadata": {},
   "outputs": [
    {
     "name": "stdout",
     "output_type": "stream",
     "text": [
      "x and y is  False\n",
      "x or y is  True\n",
      "x not  is  False\n"
     ]
    }
   ],
   "source": [
    "\n",
    "x=True\n",
    "y=False\n",
    "\n",
    "print('x and y is ', x and y)\n",
    "print('x or y is ', x or y)\n",
    "print('x not  is ' , not x)"
   ]
  },
  {
   "cell_type": "code",
   "execution_count": 9,
   "id": "a84f28ff-2740-4791-bc69-57af5701288a",
   "metadata": {},
   "outputs": [
    {
     "name": "stdin",
     "output_type": "stream",
     "text": [
      "Enter value for a : 12\n",
      "Enter value for b : 10\n"
     ]
    },
    {
     "name": "stdout",
     "output_type": "stream",
     "text": [
      "c = a & b the value of c=  8\n",
      "d = a | b the value of d=  14\n",
      "e = a ^ b the value of e=  6\n",
      "f = a << b the value of f=  12288\n"
     ]
    }
   ],
   "source": [
    "a=int(input('Enter value for a :'))\n",
    "b=int(input('Enter value for b :'))\n",
    "\n",
    "c=a&b\n",
    "print('c = a & b the value of c= ',c)\n",
    "d=a|b\n",
    "print('d = a | b the value of d= ',d)\n",
    "e=a^b\n",
    "print('e = a ^ b the value of e= ',e)\n",
    "f=a<<b\n",
    "print('f = a << b the value of f= ',f)\n"
   ]
  },
  {
   "cell_type": "code",
   "execution_count": 10,
   "id": "e60e54bc-a0b8-46fc-a918-5643814805e7",
   "metadata": {},
   "outputs": [
    {
     "name": "stdin",
     "output_type": "stream",
     "text": [
      "Enter value for a : 10\n",
      "Enter value for b : 12\n",
      "Enter value for c : 13\n",
      "Enter value for d : 11\n",
      "Enter value for e : 10\n",
      "Enter value for f : 09\n"
     ]
    },
    {
     "name": "stdout",
     "output_type": "stream",
     "text": [
      "g=a 10\n",
      "b+=a 22\n",
      "c-=a 3\n",
      "d*=a 110\n",
      "e/=a 1.0\n",
      "f%=a 9\n"
     ]
    }
   ],
   "source": [
    "a=int(input('Enter value for a :'))\n",
    "b=int(input('Enter value for b :'))\n",
    "c=int(input('Enter value for c :'))\n",
    "d=int(input('Enter value for d :'))\n",
    "e=int(input('Enter value for e :'))\n",
    "f=int(input('Enter value for f :'))\n",
    "\n",
    "g=a\n",
    "print('g=a',a)\n",
    "b+=a\n",
    "print('b+=a',b)\n",
    "c-=a\n",
    "print('c-=a',c)\n",
    "d*=a\n",
    "print('d*=a',d)\n",
    "e/=a\n",
    "print('e/=a',e)\n",
    "f%=a\n",
    "print('f%=a',f)\n"
   ]
  },
  {
   "cell_type": "code",
   "execution_count": 11,
   "id": "c61a6f98-5ade-4ee3-bbef-394d4e99f585",
   "metadata": {},
   "outputs": [
    {
     "name": "stdout",
     "output_type": "stream",
     "text": [
      "['apple', 'Oranges', 'Banana', 'Fig']\n"
     ]
    }
   ],
   "source": [
    "thislist=[\"apple\",\"Oranges\",\"Banana\",\"Fig\"]\n",
    "print(thislist)"
   ]
  },
  {
   "cell_type": "code",
   "execution_count": null,
   "id": "81dd9354-f071-4b76-ab10-7481f21b1ebb",
   "metadata": {},
   "outputs": [],
   "source": []
  }
 ],
 "metadata": {
  "kernelspec": {
   "display_name": "Python 3 (ipykernel)",
   "language": "python",
   "name": "python3"
  },
  "language_info": {
   "codemirror_mode": {
    "name": "ipython",
    "version": 3
   },
   "file_extension": ".py",
   "mimetype": "text/x-python",
   "name": "python",
   "nbconvert_exporter": "python",
   "pygments_lexer": "ipython3",
   "version": "3.11.7"
  }
 },
 "nbformat": 4,
 "nbformat_minor": 5
}
