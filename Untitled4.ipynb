{
 "cells": [
  {
   "cell_type": "code",
   "execution_count": 2,
   "id": "b4bf6b62-916a-41a4-a286-c608871529b0",
   "metadata": {},
   "outputs": [
    {
     "name": "stdout",
     "output_type": "stream",
     "text": [
      "['BOB', 'EEE', 'ccc', 'aaa', 'eee']\n"
     ]
    }
   ],
   "source": [
    "#Array\n",
    "name=[\"BOB\",\"EEE\",\"ccc\",\"aaa\"]\n",
    "name.append(\"eee\")\n",
    "print(name)"
   ]
  },
  {
   "cell_type": "code",
   "execution_count": 3,
   "id": "c7f382c0-36b7-458d-afc6-842d23cb302c",
   "metadata": {},
   "outputs": [
    {
     "name": "stdout",
     "output_type": "stream",
     "text": [
      "[]\n"
     ]
    }
   ],
   "source": [
    "name=[\"BOB\",\"EEE\",\"ccc\",\"aaa\"]\n",
    "name.clear()\n",
    "print(name)"
   ]
  },
  {
   "cell_type": "code",
   "execution_count": 4,
   "id": "f10f3157-0b49-405b-ad78-cf458cb2342f",
   "metadata": {},
   "outputs": [
    {
     "name": "stdout",
     "output_type": "stream",
     "text": [
      "['BOB', 'EEE', 'ccc', 'aaa']\n",
      "['BOB', 'EEE', 'ccc', 'aaa']\n"
     ]
    }
   ],
   "source": [
    "name=[\"BOB\",\"EEE\",\"ccc\",\"aaa\"]\n",
    "print(name)\n",
    "x=name.copy()\n",
    "print(x)"
   ]
  },
  {
   "cell_type": "code",
   "execution_count": 13,
   "id": "c5d74d20-2549-4d70-a9e6-524fdceb2a07",
   "metadata": {},
   "outputs": [
    {
     "name": "stdout",
     "output_type": "stream",
     "text": [
      "['BOB', 'EEE', 'ccc', 'aaa', 1, 2, 3, 4]\n"
     ]
    }
   ],
   "source": [
    "name=[\"BOB\",\"EEE\",\"ccc\",\"aaa\"]\n",
    "num=[1,2,3,4]\n",
    "x=name.extend(num)\n",
    "print(name)"
   ]
  },
  {
   "cell_type": "code",
   "execution_count": 9,
   "id": "437e956a-1e89-44f5-879b-e8809e311924",
   "metadata": {},
   "outputs": [
    {
     "name": "stdout",
     "output_type": "stream",
     "text": [
      "['Aaa', 'bbb', 'eee', 'ddd']\n",
      "1\n"
     ]
    }
   ],
   "source": [
    "name=[\"Aaa\",\"bbb\",\"eee\",\"ddd\"]\n",
    "print(name)\n",
    "x=name.count(\"eee\")\n",
    "print(x)"
   ]
  },
  {
   "cell_type": "code",
   "execution_count": 10,
   "id": "481b6a5f-e041-4252-a93c-96f393bac2d4",
   "metadata": {},
   "outputs": [
    {
     "name": "stdout",
     "output_type": "stream",
     "text": [
      "['Aaa', 'bbb', 'eee', 'ddd']\n",
      "2\n"
     ]
    }
   ],
   "source": [
    "name=[\"Aaa\",\"bbb\",\"eee\",\"ddd\"]\n",
    "print(name)\n",
    "x=name.index(\"eee\")\n",
    "print(x)"
   ]
  },
  {
   "cell_type": "code",
   "execution_count": 12,
   "id": "953ff084-747f-48cf-bf01-6054ea55be52",
   "metadata": {},
   "outputs": [
    {
     "name": "stdout",
     "output_type": "stream",
     "text": [
      "['Aaa', 'bbb', 'eee', 'ddd']\n",
      "['Aaa', 'ccc', 'bbb', 'eee', 'ddd']\n"
     ]
    }
   ],
   "source": [
    "name=[\"Aaa\",\"bbb\",\"eee\",\"ddd\"]\n",
    "print(name)\n",
    "x=name.insert(1,\"ccc\")\n",
    "print(name)"
   ]
  },
  {
   "cell_type": "code",
   "execution_count": 15,
   "id": "c13a7e04-c7c6-4dcb-852b-10b7a928c7cd",
   "metadata": {},
   "outputs": [
    {
     "name": "stdout",
     "output_type": "stream",
     "text": [
      "['Aaa', 'bbb', 'eee', 'ddd']\n",
      "['Aaa', 'bbb', 'ddd']\n"
     ]
    }
   ],
   "source": [
    "name=[\"Aaa\",\"bbb\",\"eee\",\"ddd\"]\n",
    "print(name)\n",
    "x=name.pop(2)\n",
    "print(name)"
   ]
  },
  {
   "cell_type": "code",
   "execution_count": 16,
   "id": "3a1995d7-91e1-47e3-b77f-4c52b23cc505",
   "metadata": {},
   "outputs": [
    {
     "name": "stdout",
     "output_type": "stream",
     "text": [
      "['Aaa', 'bbb', 'eee', 'ddd']\n",
      "['Aaa', 'bbb', 'ddd']\n"
     ]
    }
   ],
   "source": [
    "name=[\"Aaa\",\"bbb\",\"eee\",\"ddd\"]\n",
    "print(name)\n",
    "x=name.remove(\"eee\")\n",
    "print(name)"
   ]
  },
  {
   "cell_type": "code",
   "execution_count": 17,
   "id": "21844d00-fb55-4867-ad32-04b82792859a",
   "metadata": {},
   "outputs": [
    {
     "name": "stdout",
     "output_type": "stream",
     "text": [
      "['Aaa', 'bbb', 'eee', 'ddd']\n",
      "['ddd', 'eee', 'bbb', 'Aaa']\n"
     ]
    }
   ],
   "source": [
    "name=[\"Aaa\",\"bbb\",\"eee\",\"ddd\"]\n",
    "print(name)\n",
    "x=name.reverse()\n",
    "print(name)"
   ]
  },
  {
   "cell_type": "code",
   "execution_count": 19,
   "id": "a40abbdb-d9ea-4ae8-b868-d1c37b07d7a1",
   "metadata": {},
   "outputs": [
    {
     "name": "stdout",
     "output_type": "stream",
     "text": [
      "[[1, 2, 3], [4, 5, 6], [7, 8, 9]]\n",
      "[[10, 11, 12], [13, 14, 15], [16, 17, 18]]\n",
      "11\n",
      "13\n",
      "15\n",
      "17\n",
      "19\n",
      "21\n",
      "23\n",
      "25\n",
      "27\n",
      "[11, 13, 15]\n",
      "[17, 19, 21]\n",
      "[23, 25, 27]\n"
     ]
    }
   ],
   "source": [
    "#TWO DIMENSIONAL ARRAY\n",
    "m1=[[1,2,3],\n",
    "   [4,5,6],\n",
    "    [7,8,9]]\n",
    "m2=[[10,11,12],\n",
    "    [13,14,15],\n",
    "    [16,17,18]]\n",
    "rmatrix=[[0,0,0],\n",
    "   [0,0,0],\n",
    "    [0,0,0]]\n",
    "\n",
    "print(m1)\n",
    "print(m2)\n",
    "\n",
    "for i in range(len(m1)):\n",
    "    for j in range(len(m2)):\n",
    "        rmatrix[i][j]=m1[i][j]+m2[i][j]\n",
    "        print(rmatrix[i][j])\n",
    "for x in rmatrix:\n",
    "    print(x)"
   ]
  },
  {
   "cell_type": "code",
   "execution_count": 23,
   "id": "9b38d2e2-fbb8-45fb-b1c4-83f7e5fbf8ba",
   "metadata": {},
   "outputs": [
    {
     "name": "stdin",
     "output_type": "stream",
     "text": [
      "Enter Rows : 2\n",
      "Enter Columns : 2\n"
     ]
    },
    {
     "name": "stdout",
     "output_type": "stream",
     "text": [
      "Enter the Elements:\n"
     ]
    },
    {
     "name": "stdin",
     "output_type": "stream",
     "text": [
      " 2\n",
      " 3\n",
      " 4\n",
      " 5\n",
      " 6\n",
      " 7\n",
      " 8\n",
      " 9\n"
     ]
    },
    {
     "name": "stdout",
     "output_type": "stream",
     "text": [
      "[[2, 3], [4, 5]]\n",
      "[[6, 7], [6, 7], [8, 9], [8, 9]]\n",
      "2   6   8\n",
      "3   7   10\n",
      "4   6   10\n",
      "5   7   12\n"
     ]
    }
   ],
   "source": [
    "#user defined input matrix\n",
    "\n",
    "r=int(input(\"Enter Rows :\"))\n",
    "c=int(input(\"Enter Columns :\"))\n",
    "m1=[]\n",
    "m2=[]\n",
    "print(\"Enter the Elements:\")\n",
    "\n",
    "for i in range(r):\n",
    "    a=[]\n",
    "    for j in range(c):\n",
    "        a.append(int(input()))\n",
    "    m1.append(a)\n",
    "\n",
    "for i in range(r):\n",
    "    b=[]\n",
    "    for j in range(c):\n",
    "        b.append(int(input()))\n",
    "        m2.append(b)\n",
    "\n",
    "print(m1)\n",
    "print(m2)\n",
    "res=[]\n",
    "for i in range(r):\n",
    "    for j in range(c):\n",
    "        res=m1[i][j]+m2[i][j]\n",
    "        print(m1[i][j],' ',m2[i][j],' ',res)"
   ]
  },
  {
   "cell_type": "code",
   "execution_count": 25,
   "id": "1599aa89-f503-4875-8f27-73b31ef66d7e",
   "metadata": {},
   "outputs": [
    {
     "name": "stdin",
     "output_type": "stream",
     "text": [
      "Enter id : 12\n",
      "Enter Name : Pankaj\n",
      "Enter Address : Solapur\n"
     ]
    },
    {
     "name": "stdout",
     "output_type": "stream",
     "text": [
      "12   Pankaj   Solapur\n"
     ]
    }
   ],
   "source": [
    "#Class Program\n",
    "class stud:\n",
    "    def getdata():\n",
    "        id=int(input(\"Enter id :\"))\n",
    "        name=input(\"Enter Name :\")\n",
    "        address=input(\"Enter Address :\")\n",
    "        print(id,\" \",name,\" \",address)\n",
    "\n",
    "obj=stud\n",
    "obj.getdata()"
   ]
  },
  {
   "cell_type": "code",
   "execution_count": 33,
   "id": "cbf9150f-38dd-49f0-94bc-ffe7b14d0f8f",
   "metadata": {},
   "outputs": [
    {
     "name": "stdin",
     "output_type": "stream",
     "text": [
      "Enter value of a : 1\n",
      "Enter value of b : 2\n"
     ]
    },
    {
     "name": "stdout",
     "output_type": "stream",
     "text": [
      "3\n"
     ]
    },
    {
     "ename": "NameError",
     "evalue": "name 'y' is not defined",
     "output_type": "error",
     "traceback": [
      "\u001b[1;31m---------------------------------------------------------------------------\u001b[0m",
      "\u001b[1;31mNameError\u001b[0m                                 Traceback (most recent call last)",
      "Cell \u001b[1;32mIn[33], line 14\u001b[0m\n\u001b[0;32m     12\u001b[0m obj\u001b[38;5;241m=\u001b[39marithmetic\n\u001b[0;32m     13\u001b[0m obj\u001b[38;5;241m.\u001b[39madd(a , b)\n\u001b[1;32m---> 14\u001b[0m obj\u001b[38;5;241m.\u001b[39msub(x , y)\n",
      "\u001b[1;31mNameError\u001b[0m: name 'y' is not defined"
     ]
    }
   ],
   "source": [
    "class arithmetic:\n",
    "    def add(a,b):\n",
    "        a=int(input(\"Enter value of a :\"))\n",
    "        b=int(input(\"Enter value of b :\"))\n",
    "        c=a+b\n",
    "        print(c)\n",
    "    def sub(x,y):\n",
    "        x=int(input(\"Enter value of x :\"))\n",
    "        y=int(input(\"Enter value of y :\"))\n",
    "        z=x-y\n",
    "        print(z)\n",
    "obj=arithmetic\n",
    "obj.add(a , b)\n",
    "obj.sub(x , y) "
   ]
  },
  {
   "cell_type": "code",
   "execution_count": 1,
   "id": "a53c85de-4dcc-4ebb-ac7f-96b4e4b60b08",
   "metadata": {},
   "outputs": [
    {
     "name": "stdin",
     "output_type": "stream",
     "text": [
      "Enter the First Number:  15\n",
      "Enter the Second Number:  5\n"
     ]
    },
    {
     "name": "stdout",
     "output_type": "stream",
     "text": [
      "15.0 + 5.0 = \n",
      "20.0\n",
      "15.0 - 5.0 = \n",
      "10.0\n",
      "15.0 * 5.0 = \n",
      "75.0\n",
      "15.0 / 5.0 = \n",
      "3.0\n"
     ]
    }
   ],
   "source": [
    "# Basic Calculations\n",
    "# Calculator Program in Python by using input() and format() functions\n",
    "\n",
    "#Promting input from the user\n",
    "\n",
    "n1 = float(input(\"Enter the First Number: \"))\n",
    "n2 = float(input(\"Enter the Second Number: \"))\n",
    "\n",
    "#addition\n",
    "\n",
    "print(\"{} + {} = \".format(n1, n2))\n",
    "print(n1 + n2)\n",
    "\n",
    "#subtraction\n",
    "\n",
    "print(\"{} - {} = \".format(n1, n2))\n",
    "print(n1 - n2)\n",
    "\n",
    "#multiplication\n",
    "\n",
    "print(\"{} * {} = \".format(n1, n2))\n",
    "print(n1 * n2)\n",
    "\n",
    "#division\n",
    "\n",
    "print(\"{} / {} = \".format(n1, n2))\n",
    "print(n1 / n2)"
   ]
  },
  {
   "cell_type": "code",
   "execution_count": 2,
   "id": "3c6a5da1-38a7-4654-aefd-65b5c8b4b155",
   "metadata": {},
   "outputs": [
    {
     "name": "stdout",
     "output_type": "stream",
     "text": [
      "5\n"
     ]
    }
   ],
   "source": [
    "class first:\n",
    "    x=5\n",
    "obj=first\n",
    "print(obj.x)"
   ]
  },
  {
   "cell_type": "code",
   "execution_count": 2,
   "id": "c747ebce-c5e4-42e1-9f5f-841e48c3bcc9",
   "metadata": {},
   "outputs": [
    {
     "name": "stdout",
     "output_type": "stream",
     "text": [
      "Area value : 0\n",
      "Area value : 16\n",
      "Area value : 6\n"
     ]
    }
   ],
   "source": [
    "class com:\n",
    "    def area(self,x=0,y=0):\n",
    "        if x!=0 and y!=0:\n",
    "            return x*y\n",
    "        elif x!=0:\n",
    "            return x*x\n",
    "        else:\n",
    "            return 0\n",
    "o=com()\n",
    "print(\"Area value :\",o.area())\n",
    "\n",
    "print(\"Area value :\",o.area(4))\n",
    "print(\"Area value :\",o.area(2,3))\n",
    "\n"
   ]
  },
  {
   "cell_type": "code",
   "execution_count": 4,
   "id": "22c0ebc1-672f-402e-ab83-8664954ef2fa",
   "metadata": {},
   "outputs": [
    {
     "name": "stdin",
     "output_type": "stream",
     "text": [
      "Enter id: 12\n",
      "Enter Name : Pankaj\n"
     ]
    },
    {
     "name": "stdout",
     "output_type": "stream",
     "text": [
      "12 Pankaj\n"
     ]
    }
   ],
   "source": [
    "class first():\n",
    "    def __init__(x,id,name):\n",
    "        x.id=id\n",
    "        x.name=name\n",
    "    def display(x):\n",
    "        print(x.id,x.name)\n",
    "\n",
    "id=int(input(\"Enter id:\"))\n",
    "name=input(\"Enter Name :\")\n",
    "obj=first(id,name)\n",
    "obj.display()"
   ]
  },
  {
   "cell_type": "code",
   "execution_count": 6,
   "id": "077ee3c0-4f99-4aa1-8925-ef2753be8665",
   "metadata": {},
   "outputs": [
    {
     "name": "stdout",
     "output_type": "stream",
     "text": [
      "Python by Jose\n",
      "200\n",
      "A book has been deleted..\n"
     ]
    }
   ],
   "source": [
    "#Book Class with Cnstructor\n",
    "\n",
    "class book:\n",
    "    def __init__(self,title,auther,pages):\n",
    "        self.title=title\n",
    "        self.auther=auther\n",
    "        self.pages=pages\n",
    "    def __str__(self):\n",
    "        return f\"{self.title} by {self.auther}\"\n",
    "    def __len__(self):\n",
    "        return self.pages\n",
    "    def __del__(self):\n",
    "        print(\"A book has been deleted..\")\n",
    "\n",
    "b=book('Python','Jose',200)\n",
    "print(str(b))\n",
    "print(len(b))\n",
    "del b"
   ]
  },
  {
   "cell_type": "raw",
   "id": "977c04a2-9ef9-411d-8e3f-4f4c05755931",
   "metadata": {},
   "source": [
    "Parameterised Constructor"
   ]
  },
  {
   "cell_type": "markdown",
   "id": "0b23ef4b-9993-45c1-bc86-8acdf8d42bd2",
   "metadata": {},
   "source": [
    "class electric:\n",
    "    def __init__(x,unit):\n",
    "        x.unit=unit\n",
    "        if(unit>=2000):\n",
    "            ex_ch=100\n",
    "            amt=unit*12\n",
    "            bill=amt+ex_ch\n",
    "            print(x.unit,\" \",amt,\" \",ex_ch,\" \",bill)\n",
    "        elif(unit>=100 and unit <200):\n",
    "            ex_ch=75\n",
    "            amt=unit*12\n",
    "            bill=amt+ex_ch\n",
    "            print(x.unit,\" \", amt,\" \",ex_ch,\" \",bill)\n",
    "        else:\n",
    "            ex_ch=00\n",
    "            amt=unit*12\n",
    "            bill=amt+ex_ch\n",
    "            print(x.unit,\" \",amt,\" \",ex_ch,\" \",bill)\n",
    "\n",
    "unit=int(input(\"Enter Unit:\"))\n",
    "obj=electric(unit)\n",
    "\n",
    "        "
   ]
  },
  {
   "cell_type": "markdown",
   "id": "fabc611b-8c7c-4705-ac7d-d7d577a6fdb5",
   "metadata": {},
   "source": [
    "OverRiding"
   ]
  },
  {
   "cell_type": "code",
   "execution_count": 8,
   "id": "3c7e9314-db48-4cc1-8060-3a06c0d06877",
   "metadata": {},
   "outputs": [
    {
     "name": "stdin",
     "output_type": "stream",
     "text": [
      "Enter value for a:  11\n",
      "Enter value for b:  11\n",
      "Enter value for c:  11\n",
      "Enter value for x:  10\n",
      "Enter value for y:  10\n",
      "Enter value for z:  11\n",
      "Enter value for p:  333\n",
      "Enter value for q:  333\n",
      "Enter value for r:  333\n"
     ]
    },
    {
     "name": "stdout",
     "output_type": "stream",
     "text": [
      "33\n",
      "31\n",
      "999\n"
     ]
    }
   ],
   "source": [
    "class override:\n",
    "    def fun(a,b,c):\n",
    "        d=a+b+c\n",
    "        print (d)\n",
    "class override1:\n",
    "    def fun(x,y,z):\n",
    "        w=x+y+z\n",
    "        print (w)\n",
    "class override2:\n",
    "    def fun(p,q,r):\n",
    "        s=p+q+r\n",
    "        print (s)\n",
    "\n",
    "a=int(input(\"Enter value for a: \"))\n",
    "b=int(input(\"Enter value for b: \"))\n",
    "c=int(input(\"Enter value for c: \"))\n",
    "x=int(input(\"Enter value for x: \"))\n",
    "y=int(input(\"Enter value for y: \"))\n",
    "z=int(input(\"Enter value for z: \"))\n",
    "p=int(input(\"Enter value for p: \"))\n",
    "q=int(input(\"Enter value for q: \"))\n",
    "r=int(input(\"Enter value for r: \"))\n",
    "\n",
    "obj=override\n",
    "obj=override1\n",
    "obj=override2\n",
    "\n",
    "obj.fun(a,b,c)\n",
    "obj.fun(x,y,z)\n",
    "obj.fun(p,q,r)"
   ]
  },
  {
   "cell_type": "code",
   "execution_count": 11,
   "id": "ce8784bb-950f-4684-af54-ba9a4b5a4c4c",
   "metadata": {},
   "outputs": [
    {
     "name": "stdin",
     "output_type": "stream",
     "text": [
      "Enter Value x: 10\n",
      "Enter Value y: 11\n",
      "Enter Value z: 15\n",
      "Enter Value a: 10\n",
      "Enter Value b: 12\n",
      "Enter Value c: 15\n"
     ]
    },
    {
     "name": "stdout",
     "output_type": "stream",
     "text": [
      "10  is smaller than  11  and 15\n",
      "10  is smaller than  12  and 15\n"
     ]
    }
   ],
   "source": [
    "class relational:\n",
    "    def fun(x,y,z):\n",
    "        if(x<y and x<z):\n",
    "            print(x,\" is smaller than \",y,\" and\",z)\n",
    "        elif(x==y and x==z):\n",
    "            print(x,\" is equal to \",y,\" and\",z)\n",
    "        else:\n",
    "             print(x,\" is greater than \",y,\" and\",z)\n",
    "class relational1:\n",
    "    def fun(a,b,c):\n",
    "        if(a<b and a<b):\n",
    "            print(a,\" is smaller than \",b,\" and\",c)\n",
    "        elif(a==b and a==c):\n",
    "            print(a,\" is equal to \",b,\" and\",c)\n",
    "        else:\n",
    "             print(a,\" is greater than \",b,\" and\",c)\n",
    "\n",
    "\n",
    "x=int(input(\"Enter Value x:\"))\n",
    "y=int(input(\"Enter Value y:\"))\n",
    "z=int(input(\"Enter Value z:\"))\n",
    "a=int(input(\"Enter Value a:\"))\n",
    "b=int(input(\"Enter Value b:\"))\n",
    "c=int(input(\"Enter Value c:\"))\n",
    "obj=relational\n",
    "obj=relational1\n",
    "\n",
    "obj.fun(x,y,z)\n",
    "obj.fun(a,b,c)\n",
    "        "
   ]
  },
  {
   "cell_type": "code",
   "execution_count": 13,
   "id": "d4480844-920d-42c4-a941-e1bcb79d8c04",
   "metadata": {},
   "outputs": [
    {
     "name": "stdout",
     "output_type": "stream",
     "text": [
      "48\n",
      "48\n"
     ]
    }
   ],
   "source": [
    "class rectangle:\n",
    "    def __init__(self,length,breadth):\n",
    "        self.length=length\n",
    "        self.breadth=breadth\n",
    "    def area(self):\n",
    "        a=self.length*self.breadth\n",
    "        print(a)\n",
    "\n",
    "class rectangle1:\n",
    "    def __init__(self,length,breadth):\n",
    "        self.length=length\n",
    "        self.breadth=breadth\n",
    "    def area(self):\n",
    "        b=self.length*self.breadth\n",
    "        print(b)\n",
    "r=rectangle(12,4)\n",
    "s=rectangle(24,2)\n",
    "\n",
    "r.area()\n",
    "s.area()\n"
   ]
  },
  {
   "cell_type": "code",
   "execution_count": null,
   "id": "fd29a54b-b37a-40a3-8b89-7b88b3d69b8d",
   "metadata": {},
   "outputs": [],
   "source": []
  }
 ],
 "metadata": {
  "kernelspec": {
   "display_name": "Python 3 (ipykernel)",
   "language": "python",
   "name": "python3"
  },
  "language_info": {
   "codemirror_mode": {
    "name": "ipython",
    "version": 3
   },
   "file_extension": ".py",
   "mimetype": "text/x-python",
   "name": "python",
   "nbconvert_exporter": "python",
   "pygments_lexer": "ipython3",
   "version": "3.11.7"
  }
 },
 "nbformat": 4,
 "nbformat_minor": 5
}
