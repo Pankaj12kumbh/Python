{
 "cells": [
  {
   "cell_type": "code",
   "execution_count": 2,
   "id": "635a76b8-de67-495b-9003-fa2dced37dd7",
   "metadata": {},
   "outputs": [
    {
     "name": "stdout",
     "output_type": "stream",
     "text": [
      "Hello Welcome to Python Language\n"
     ]
    }
   ],
   "source": [
    "print(\"Hello Welcome to Python Language\")"
   ]
  },
  {
   "cell_type": "code",
   "execution_count": 4,
   "id": "254e6f42-1201-4fd8-8953-769423a4ff13",
   "metadata": {},
   "outputs": [
    {
     "name": "stdout",
     "output_type": "stream",
     "text": [
      "Hello World\n"
     ]
    }
   ],
   "source": [
    "#this is a program comment\n",
    "print(\"Hello World\")"
   ]
  },
  {
   "cell_type": "code",
   "execution_count": 5,
   "id": "41a4ce42-3404-4aaa-a2e1-fd7a4a901862",
   "metadata": {},
   "outputs": [
    {
     "name": "stdout",
     "output_type": "stream",
     "text": [
      "Hello\n"
     ]
    }
   ],
   "source": [
    "\"\"\"this is a cmment\n",
    "written in\n",
    "more than just one line \"\"\"\n",
    "print(\"Hello\")"
   ]
  },
  {
   "cell_type": "code",
   "execution_count": 6,
   "id": "ac8f69b4-2241-4af5-b437-f6fcc37d10ae",
   "metadata": {},
   "outputs": [
    {
     "name": "stdout",
     "output_type": "stream",
     "text": [
      "3.11.7 | packaged by Anaconda, Inc. | (main, Dec 15 2023, 18:05:47) [MSC v.1916 64 bit (AMD64)]\n"
     ]
    }
   ],
   "source": [
    "import sys\n",
    "print(sys.version)"
   ]
  },
  {
   "cell_type": "code",
   "execution_count": 7,
   "id": "55e334e3-ced5-43c7-aa1c-cadd7e39c134",
   "metadata": {},
   "outputs": [],
   "source": [
    "x=5\n",
    "y=\"Hello Program \""
   ]
  },
  {
   "cell_type": "code",
   "execution_count": 8,
   "id": "db932a62-37e4-4598-bdc8-35cace110109",
   "metadata": {},
   "outputs": [
    {
     "name": "stdout",
     "output_type": "stream",
     "text": [
      "5 Hello Program \n"
     ]
    }
   ],
   "source": [
    "print(x,y)"
   ]
  },
  {
   "cell_type": "code",
   "execution_count": 9,
   "id": "de7623c7-5b26-4883-8b5a-dbd806614fb9",
   "metadata": {},
   "outputs": [
    {
     "name": "stdout",
     "output_type": "stream",
     "text": [
      "Volvo\n"
     ]
    }
   ],
   "source": [
    "carname=\"Volvo\"\n",
    "print(carname)"
   ]
  },
  {
   "cell_type": "code",
   "execution_count": 2,
   "id": "a6aa49b3-f60d-424d-ab55-3c5984d6c57f",
   "metadata": {},
   "outputs": [
    {
     "name": "stdout",
     "output_type": "stream",
     "text": [
      "Orange\n",
      "BLue\n",
      "White\n"
     ]
    }
   ],
   "source": [
    "x,y,z=\"Orange\",\"BLue\",\"White\"\n",
    "print(x)\n",
    "print(y)\n",
    "print(z)"
   ]
  },
  {
   "cell_type": "code",
   "execution_count": 3,
   "id": "082d141f-76a8-41b8-8f05-612a4cdb7482",
   "metadata": {},
   "outputs": [
    {
     "name": "stdout",
     "output_type": "stream",
     "text": [
      "Orange\n",
      "Orange\n",
      "Orange\n"
     ]
    }
   ],
   "source": [
    "x=y=z=\"Orange\"\n",
    "print(x)\n",
    "print(y)\n",
    "print(z)"
   ]
  },
  {
   "cell_type": "code",
   "execution_count": 4,
   "id": "07019310-5534-48e7-9fb3-a2cb73b34cf7",
   "metadata": {},
   "outputs": [],
   "source": [
    "##GLOBALvariable"
   ]
  },
  {
   "cell_type": "code",
   "execution_count": 5,
   "id": "8f2b7e98-2a2f-40d3-b899-a1c08af31c04",
   "metadata": {},
   "outputs": [
    {
     "name": "stdout",
     "output_type": "stream",
     "text": [
      "Python is Awsome\n"
     ]
    }
   ],
   "source": [
    "x=\"Awsome\"\n",
    "print(\"Python is \"+x)"
   ]
  },
  {
   "cell_type": "code",
   "execution_count": 6,
   "id": "749f4f45-8c27-4292-a134-bc7a771c8fb2",
   "metadata": {},
   "outputs": [
    {
     "name": "stdout",
     "output_type": "stream",
     "text": [
      "<class 'float'>\n"
     ]
    }
   ],
   "source": [
    "x=35e3\n",
    "print(type(x))"
   ]
  },
  {
   "cell_type": "code",
   "execution_count": null,
   "id": "057a74e5-2609-48c8-8011-6096ff82b308",
   "metadata": {},
   "outputs": [],
   "source": []
  }
 ],
 "metadata": {
  "kernelspec": {
   "display_name": "Python 3 (ipykernel)",
   "language": "python",
   "name": "python3"
  },
  "language_info": {
   "codemirror_mode": {
    "name": "ipython",
    "version": 3
   },
   "file_extension": ".py",
   "mimetype": "text/x-python",
   "name": "python",
   "nbconvert_exporter": "python",
   "pygments_lexer": "ipython3",
   "version": "3.11.7"
  }
 },
 "nbformat": 4,
 "nbformat_minor": 5
}
