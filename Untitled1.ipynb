{
 "cells": [
  {
   "cell_type": "code",
   "execution_count": 1,
   "id": "e55157ac-e968-428d-8733-83cd080244ff",
   "metadata": {},
   "outputs": [],
   "source": [
    "#Separator"
   ]
  },
  {
   "cell_type": "code",
   "execution_count": 2,
   "id": "61466560-9353-4784-a932-626d5c2d1a72",
   "metadata": {},
   "outputs": [
    {
     "name": "stdout",
     "output_type": "stream",
     "text": [
      "1 2 3 4 5\n"
     ]
    }
   ],
   "source": [
    "print(1,2,3,4,5)"
   ]
  },
  {
   "cell_type": "code",
   "execution_count": 3,
   "id": "aa19d545-86b0-46e2-87b2-20ea725a7afc",
   "metadata": {},
   "outputs": [
    {
     "name": "stdout",
     "output_type": "stream",
     "text": [
      "1_2_3_4_5\n"
     ]
    }
   ],
   "source": [
    "print(1,2,3,4,5,sep='_')"
   ]
  },
  {
   "cell_type": "code",
   "execution_count": 4,
   "id": "290e5787-ca99-4460-82c9-9d63581c51aa",
   "metadata": {},
   "outputs": [],
   "source": [
    "#Output Format"
   ]
  },
  {
   "cell_type": "code",
   "execution_count": 9,
   "id": "868fb2e2-684a-4990-81c0-d49d17f17066",
   "metadata": {},
   "outputs": [
    {
     "name": "stdout",
     "output_type": "stream",
     "text": [
      "the value of x is 5 and y is 10 \n"
     ]
    }
   ],
   "source": [
    "x=5\n",
    "y=10\n",
    "print('the value of x is {} and y is {} ' . format (x,y))"
   ]
  },
  {
   "cell_type": "code",
   "execution_count": 10,
   "id": "58d3f5f8-9bba-4203-9a07-c64a7dc83b42",
   "metadata": {},
   "outputs": [],
   "source": [
    "#input"
   ]
  },
  {
   "cell_type": "code",
   "execution_count": 11,
   "id": "2efece32-e9b3-430e-9446-b4650b765e76",
   "metadata": {},
   "outputs": [
    {
     "name": "stdin",
     "output_type": "stream",
     "text": [
      "Enter the number for a: 2\n"
     ]
    },
    {
     "name": "stdout",
     "output_type": "stream",
     "text": [
      "2\n"
     ]
    }
   ],
   "source": [
    "a=input('Enter the number for a:')\n",
    "print(a)\n"
   ]
  },
  {
   "cell_type": "code",
   "execution_count": 12,
   "id": "f0aef80b-77b2-404e-8b10-7e88a8f2086c",
   "metadata": {},
   "outputs": [
    {
     "name": "stdout",
     "output_type": "stream",
     "text": [
      "3.141592653589793\n"
     ]
    }
   ],
   "source": [
    "import math\n",
    "print(math.pi)"
   ]
  },
  {
   "cell_type": "code",
   "execution_count": null,
   "id": "45d923a4-8c39-4f07-9ead-1a82a9b80846",
   "metadata": {},
   "outputs": [],
   "source": []
  }
 ],
 "metadata": {
  "kernelspec": {
   "display_name": "Python 3 (ipykernel)",
   "language": "python",
   "name": "python3"
  },
  "language_info": {
   "codemirror_mode": {
    "name": "ipython",
    "version": 3
   },
   "file_extension": ".py",
   "mimetype": "text/x-python",
   "name": "python",
   "nbconvert_exporter": "python",
   "pygments_lexer": "ipython3",
   "version": "3.11.7"
  }
 },
 "nbformat": 4,
 "nbformat_minor": 5
}
