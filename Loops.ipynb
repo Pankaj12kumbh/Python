{
 "cells": [
  {
   "cell_type": "code",
   "execution_count": 1,
   "id": "30518acf-c173-4484-9287-2533c13fb8c4",
   "metadata": {},
   "outputs": [
    {
     "name": "stdin",
     "output_type": "stream",
     "text": [
      "Enter youe height in float 5.6\n"
     ]
    },
    {
     "name": "stdout",
     "output_type": "stream",
     "text": [
      "5.6 great ..... Your are eligible.......\n"
     ]
    }
   ],
   "source": [
    "h=float(input('Enter youe height in float'))\n",
    "if(h>=4.0 and h<=6.0):\n",
    "    print(h,\"great ..... Your are eligible.......\")\n",
    "elif(h>=4.0 and h<=5.0):\n",
    "    print(h,\"Yes your height is sufficient\")\n",
    "else:\n",
    "    print(\"Sorry , Try Next Time \")\n",
    "\n",
    "\n"
   ]
  },
  {
   "cell_type": "code",
   "execution_count": 2,
   "id": "c5b5702d-5202-491f-8c0b-6912fc3fec7a",
   "metadata": {},
   "outputs": [
    {
     "name": "stdout",
     "output_type": "stream",
     "text": [
      "I Like  pop\n",
      "I Like  rock\n",
      "I Like  jazz\n"
     ]
    }
   ],
   "source": [
    "#FOR LOOP\n",
    "genre=['pop','rock','jazz']\n",
    "for i in range(len(genre)):\n",
    "    print(\"I Like \",genre[i])\n"
   ]
  },
  {
   "cell_type": "code",
   "execution_count": 3,
   "id": "9f340c67-d917-4ce2-a041-f5d348211bbc",
   "metadata": {},
   "outputs": [
    {
     "name": "stdout",
     "output_type": "stream",
     "text": [
      "  A\n",
      "  B\n",
      "  C\n",
      "  D\n",
      "  E\n",
      "  F\n",
      "  G\n",
      "  H\n",
      "  I\n",
      "  J\n",
      "  K\n",
      "  L\n",
      "  M\n",
      "  N\n",
      "  O\n",
      "  Q\n",
      "  R\n",
      "  S\n",
      "  T\n",
      "  U\n",
      "  V\n",
      "  W\n",
      "  X\n",
      "  Y\n",
      "  Z\n"
     ]
    }
   ],
   "source": [
    "#FOR LOOP WITH CONTINUE:\n",
    "\n",
    "for val in \"ABCDEFGHIJKLMNOPQRSTUVWXYZ\":\n",
    "    if val==\"P\":\n",
    "        continue\n",
    "    print(\" \",val)\n",
    "    "
   ]
  },
  {
   "cell_type": "code",
   "execution_count": 4,
   "id": "2fcafef5-caef-4af6-a6f6-2dbd61e6d00f",
   "metadata": {},
   "outputs": [
    {
     "name": "stdout",
     "output_type": "stream",
     "text": [
      "  A\n",
      "  B\n",
      "  C\n",
      "  D\n",
      "  E\n",
      "  F\n",
      "  G\n",
      "  H\n",
      "  I\n",
      "  J\n",
      "  K\n",
      "  L\n",
      "  M\n",
      "  N\n",
      "  O\n"
     ]
    }
   ],
   "source": [
    "#FOR LOOP WITH BREAK:\n",
    "\n",
    "for val in \"ABCDEFGHIJKLMNOPQRSTUVWXYZ\":\n",
    "    if val==\"P\":\n",
    "        break\n",
    "    print(\" \",val)"
   ]
  },
  {
   "cell_type": "code",
   "execution_count": 5,
   "id": "90d768f3-9c1d-4035-a4c1-a3b3aceda42f",
   "metadata": {},
   "outputs": [
    {
     "name": "stdout",
     "output_type": "stream",
     "text": [
      "  A\n",
      "  B\n",
      "  C\n",
      "  D\n",
      "  E\n",
      "  F\n",
      "  G\n",
      "  H\n",
      "  I\n",
      "  J\n",
      "  K\n",
      "  L\n",
      "  M\n",
      "  N\n",
      "  O\n",
      "  P\n",
      "  Q\n",
      "  R\n",
      "  S\n",
      "  T\n",
      "  U\n",
      "  V\n",
      "  W\n",
      "  X\n",
      "  Y\n",
      "  Z\n"
     ]
    }
   ],
   "source": [
    "#FOR LOOP WITH PASS:\n",
    "\n",
    "for val in \"ABCDEFGHIJKLMNOPQRSTUVWXYZ\":\n",
    "    if val==\"P\":\n",
    "        pass\n",
    "    print(\" \",val)"
   ]
  },
  {
   "cell_type": "code",
   "execution_count": 6,
   "id": "d844ebdc-2129-4b27-bb23-13686978eb60",
   "metadata": {},
   "outputs": [
    {
     "name": "stdin",
     "output_type": "stream",
     "text": [
      "Enter Value  25\n"
     ]
    },
    {
     "name": "stdout",
     "output_type": "stream",
     "text": [
      "25  is eligible\n"
     ]
    }
   ],
   "source": [
    "age=int(input(\"Enter Value \"))\n",
    "if ( age>=18 and age<=30 ):\n",
    "    print(age, \" is eligible\")\n",
    "else:\n",
    "    print(age, \" is not eligible \")\n",
    "    "
   ]
  },
  {
   "cell_type": "code",
   "execution_count": 7,
   "id": "86058e48-f79d-40ea-a278-afc0257194bf",
   "metadata": {},
   "outputs": [
    {
     "name": "stdin",
     "output_type": "stream",
     "text": [
      "Enter ch :  P\n"
     ]
    },
    {
     "name": "stdout",
     "output_type": "stream",
     "text": [
      "P  is alphabet\n"
     ]
    }
   ],
   "source": [
    "ch=input(\"Enter ch : \")\n",
    "if (ch >=\"A\" and ch<=\"Z\" ) or (ch>='a' and ch<='z'):\n",
    "    print(ch,\" is alphabet\")\n",
    "elif (ch>=0 and ch<='99999999999999'):\n",
    "    print(ch, \" is number\")\n",
    "else:\n",
    "    print(ch,\" is symbol\")\n"
   ]
  },
  {
   "cell_type": "code",
   "execution_count": 9,
   "id": "c7ccc6fd-a06f-4847-8a05-42c46eec9690",
   "metadata": {},
   "outputs": [
    {
     "name": "stdin",
     "output_type": "stream",
     "text": [
      "Enter ch : a\n"
     ]
    },
    {
     "name": "stdout",
     "output_type": "stream",
     "text": [
      "a is vowel\n"
     ]
    }
   ],
   "source": [
    "ch=input(\"Enter ch :\")\n",
    "if(ch=='a' or ch=='e' or ch=='i' or ch=='o' or ch=='u'):\n",
    "    print(ch,\"is vowel\")\n",
    "else:\n",
    "    print(ch,\"is consonent\")\n",
    "    "
   ]
  },
  {
   "cell_type": "code",
   "execution_count": 2,
   "id": "e7933948-d3e9-4029-ae46-2c9e06d28928",
   "metadata": {},
   "outputs": [
    {
     "name": "stdout",
     "output_type": "stream",
     "text": [
      "1\n",
      "2\n",
      "3\n",
      "4\n",
      "5\n"
     ]
    }
   ],
   "source": [
    "i=1\n",
    "while i<6:\n",
    "    print(i)\n",
    "    i+=1"
   ]
  },
  {
   "cell_type": "code",
   "execution_count": 5,
   "id": "f9752694-5541-47ab-87ce-0c5c921562e7",
   "metadata": {},
   "outputs": [
    {
     "name": "stdin",
     "output_type": "stream",
     "text": [
      "Enter n : 5\n"
     ]
    },
    {
     "name": "stdout",
     "output_type": "stream",
     "text": [
      "1\n",
      "2\n",
      "6\n",
      "24\n",
      "120\n"
     ]
    }
   ],
   "source": [
    "#Function\n",
    "def getdata():\n",
    "    n=int(input(\"Enter n :\"))\n",
    "    f=1\n",
    "    for i in range(1,n+1):\n",
    "        f=f*i\n",
    "        print(f)\n",
    "getdata()"
   ]
  },
  {
   "cell_type": "code",
   "execution_count": 3,
   "id": "95ce5ff0-02f4-488f-814b-9d1a60656fe9",
   "metadata": {},
   "outputs": [
    {
     "name": "stdin",
     "output_type": "stream",
     "text": [
      "Enter the value for n: 5\n"
     ]
    },
    {
     "name": "stdout",
     "output_type": "stream",
     "text": [
      "1\n",
      "2\n",
      "3\n",
      "5\n",
      "8\n"
     ]
    }
   ],
   "source": [
    "#fibbonacci\n",
    "def faboni(n):\n",
    "    a=0\n",
    "    b=1\n",
    "    for i in range(1,n+1):\n",
    "        c=a+b\n",
    "        a=b\n",
    "        b=c\n",
    "        print(c)\n",
    "n=int(input(\"Enter the value for n:\"))\n",
    "faboni(n)"
   ]
  },
  {
   "cell_type": "code",
   "execution_count": 4,
   "id": "e1520f7c-42f0-47b3-9163-36e375f9af06",
   "metadata": {},
   "outputs": [
    {
     "name": "stdout",
     "output_type": "stream",
     "text": [
      "\n",
      " \n",
      " Recurion Example Results \n",
      "1\n",
      "3\n",
      "6\n",
      "10\n",
      "15\n",
      "21\n"
     ]
    },
    {
     "data": {
      "text/plain": [
       "21"
      ]
     },
     "execution_count": 4,
     "metadata": {},
     "output_type": "execute_result"
    }
   ],
   "source": [
    "#recursion\n",
    "def tri_recursion(k):\n",
    "    if(k>0):\n",
    "        result=k+tri_recursion(k-1)\n",
    "        print(result)\n",
    "    else:\n",
    "        result=0\n",
    "    return result\n",
    "print(\"\\n \\n Recurion Example Results \")\n",
    "tri_recursion(6)"
   ]
  },
  {
   "cell_type": "code",
   "execution_count": null,
   "id": "67e021e6-8fb1-468b-9671-fa03f28234d0",
   "metadata": {},
   "outputs": [],
   "source": []
  }
 ],
 "metadata": {
  "kernelspec": {
   "display_name": "Python 3 (ipykernel)",
   "language": "python",
   "name": "python3"
  },
  "language_info": {
   "codemirror_mode": {
    "name": "ipython",
    "version": 3
   },
   "file_extension": ".py",
   "mimetype": "text/x-python",
   "name": "python",
   "nbconvert_exporter": "python",
   "pygments_lexer": "ipython3",
   "version": "3.11.7"
  }
 },
 "nbformat": 4,
 "nbformat_minor": 5
}
